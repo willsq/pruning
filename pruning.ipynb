{
  "nbformat": 4,
  "nbformat_minor": 0,
  "metadata": {
    "colab": {
      "name": "pruning.ipynb",
      "version": "0.3.2",
      "provenance": [],
      "collapsed_sections": [],
      "toc_visible": true
    },
    "kernelspec": {
      "name": "python3",
      "display_name": "Python 3"
    },
    "accelerator": "GPU"
  },
  "cells": [
    {
      "cell_type": "markdown",
      "metadata": {
        "id": "_EqsNo2hOKRd",
        "colab_type": "text"
      },
      "source": [
        "# Neural Network Pruning\n",
        "\n",
        "[![Open In Colab](https://colab.research.google.com/assets/colab-badge.svg)](https://colab.research.google.com/github/willsq/pruning/blob/master/notebooks/pruning.ipynb)\n",
        "\n",
        "\n",
        "An exploration of neural network pruning strategies on a toy MNIST setup. We will investigate two strategies and their impact on final network sparsity, inference runtime and test accuracy. The focus here is on a clear presentation of the behaviour of these strategies.\n",
        "\n",
        "References:\n",
        "* https://jacobgil.github.io/deeplearning/pruning-deep-learning\n",
        "* [To prune, or not to prune: exploring the efficacy of pruning for model compression](https://arxiv.org/abs/1710.01878)\n",
        "* [Targeted Dropout](https://openreview.net/pdf?id=HkghWScuoQ)\n",
        "\n"
      ]
    },
    {
      "cell_type": "markdown",
      "metadata": {
        "id": "tW3EuOAxh6ro",
        "colab_type": "text"
      },
      "source": [
        "## System setup"
      ]
    },
    {
      "cell_type": "code",
      "metadata": {
        "id": "uMWCn0fRbRnF",
        "colab_type": "code",
        "outputId": "a3dc8205-5161-4879-8e21-4d14b55f248d",
        "colab": {
          "base_uri": "https://localhost:8080/",
          "height": 71
        }
      },
      "source": [
        "!pip3 install -q \\\n",
        "  tensorflow-gpu==2.0.0-beta1 \\\n",
        "  watermark \\\n",
        "  tqdm"
      ],
      "execution_count": 1,
      "outputs": [
        {
          "output_type": "stream",
          "text": [
            "\u001b[K     |████████████████████████████████| 348.9MB 32kB/s \n",
            "\u001b[K     |████████████████████████████████| 501kB 45.2MB/s \n",
            "\u001b[K     |████████████████████████████████| 3.1MB 41.3MB/s \n",
            "\u001b[?25h"
          ],
          "name": "stdout"
        }
      ]
    },
    {
      "cell_type": "code",
      "metadata": {
        "id": "p1zdS-2qLfrK",
        "colab_type": "code",
        "outputId": "1912a7a9-c754-4dc7-8228-f3a94c40d561",
        "colab": {
          "base_uri": "https://localhost:8080/",
          "height": 575
        }
      },
      "source": [
        "import tensorflow as tf\n",
        "from functools import partial\n",
        "import numpy as np\n",
        "import matplotlib\n",
        "import matplotlib.pyplot as plt\n",
        "import time\n",
        "import tqdm\n",
        "\n",
        "tf.random.set_seed(42)\n",
        "\n",
        "matplotlib.rc('figure', figsize=[10,5])\n",
        "%load_ext watermark\n",
        "%watermark -v -m -p tensorflow,numpy -g\n",
        "!nvidia-smi"
      ],
      "execution_count": 2,
      "outputs": [
        {
          "output_type": "stream",
          "text": [
            "CPython 3.6.8\n",
            "IPython 5.5.0\n",
            "\n",
            "tensorflow 2.0.0-beta1\n",
            "numpy 1.16.4\n",
            "\n",
            "compiler   : GCC 8.0.1 20180414 (experimental) [trunk revision 259383\n",
            "system     : Linux\n",
            "release    : 4.14.79+\n",
            "machine    : x86_64\n",
            "processor  : x86_64\n",
            "CPU cores  : 2\n",
            "interpreter: 64bit\n",
            "Git hash   :\n",
            "Tue Jul  2 14:31:49 2019       \n",
            "+-----------------------------------------------------------------------------+\n",
            "| NVIDIA-SMI 418.67       Driver Version: 410.79       CUDA Version: 10.0     |\n",
            "|-------------------------------+----------------------+----------------------+\n",
            "| GPU  Name        Persistence-M| Bus-Id        Disp.A | Volatile Uncorr. ECC |\n",
            "| Fan  Temp  Perf  Pwr:Usage/Cap|         Memory-Usage | GPU-Util  Compute M. |\n",
            "|===============================+======================+======================|\n",
            "|   0  Tesla T4            Off  | 00000000:00:04.0 Off |                    0 |\n",
            "| N/A   50C    P8    16W /  70W |      0MiB / 15079MiB |      0%      Default |\n",
            "+-------------------------------+----------------------+----------------------+\n",
            "                                                                               \n",
            "+-----------------------------------------------------------------------------+\n",
            "| Processes:                                                       GPU Memory |\n",
            "|  GPU       PID   Type   Process name                             Usage      |\n",
            "|=============================================================================|\n",
            "|  No running processes found                                                 |\n",
            "+-----------------------------------------------------------------------------+\n"
          ],
          "name": "stdout"
        }
      ]
    },
    {
      "cell_type": "markdown",
      "metadata": {
        "id": "ouviTGGVRlK6",
        "colab_type": "text"
      },
      "source": [
        "## Model"
      ]
    },
    {
      "cell_type": "markdown",
      "metadata": {
        "id": "QoRuaO0vkdyo",
        "colab_type": "text"
      },
      "source": [
        "### Definition"
      ]
    },
    {
      "cell_type": "code",
      "metadata": {
        "id": "srnS5x26Ls36",
        "colab_type": "code",
        "outputId": "6e06b03a-f2a5-4c5d-e08c-e70c8984fb86",
        "colab": {
          "base_uri": "https://localhost:8080/",
          "height": 377
        }
      },
      "source": [
        "# reusable components for when we construct pruned models on the fly later\n",
        "flatten = partial(tf.keras.layers.Flatten, input_shape=(28, 28))\n",
        "dense = partial(tf.keras.layers.Dense, activation='relu', use_bias=False)\n",
        "dense_to_softmax = partial(tf.keras.layers.Dense, 10, activation='softmax', use_bias=False)\n",
        "\n",
        "model = tf.keras.models.Sequential([\n",
        "  flatten(),\n",
        "  dense(1000, name=\"prunable_1\"),\n",
        "  dense(1000, name=\"prunable_2\"),\n",
        "  dense(500, name=\"prunable_3\"),\n",
        "  dense(200, name=\"prunable_4\"),\n",
        "  dense_to_softmax(name=\"softmax\"),\n",
        "])\n",
        "\n",
        "model.compile(optimizer='adam',\n",
        "              loss='sparse_categorical_crossentropy',\n",
        "              metrics=['accuracy'])\n",
        "model.summary()"
      ],
      "execution_count": 3,
      "outputs": [
        {
          "output_type": "stream",
          "text": [
            "Model: \"sequential\"\n",
            "_________________________________________________________________\n",
            "Layer (type)                 Output Shape              Param #   \n",
            "=================================================================\n",
            "flatten (Flatten)            (None, 784)               0         \n",
            "_________________________________________________________________\n",
            "prunable_1 (Dense)           (None, 1000)              784000    \n",
            "_________________________________________________________________\n",
            "prunable_2 (Dense)           (None, 1000)              1000000   \n",
            "_________________________________________________________________\n",
            "prunable_3 (Dense)           (None, 500)               500000    \n",
            "_________________________________________________________________\n",
            "prunable_4 (Dense)           (None, 200)               100000    \n",
            "_________________________________________________________________\n",
            "softmax (Dense)              (None, 10)                2000      \n",
            "=================================================================\n",
            "Total params: 2,386,000\n",
            "Trainable params: 2,386,000\n",
            "Non-trainable params: 0\n",
            "_________________________________________________________________\n"
          ],
          "name": "stdout"
        }
      ]
    },
    {
      "cell_type": "markdown",
      "metadata": {
        "id": "fKB55Nevkm-J",
        "colab_type": "text"
      },
      "source": [
        "### Load MNIST"
      ]
    },
    {
      "cell_type": "code",
      "metadata": {
        "id": "aKgieXLvcRTs",
        "colab_type": "code",
        "outputId": "4ccdbd74-d781-472b-a71a-58a18a0abe93",
        "colab": {
          "base_uri": "https://localhost:8080/",
          "height": 53
        }
      },
      "source": [
        "mnist = tf.keras.datasets.mnist\n",
        "\n",
        "(x_train, y_train), (x_test, y_test) = mnist.load_data()\n",
        "x_train = x_train.astype(np.float32) / 255.0\n",
        "x_test = x_test.astype(np.float32) / 255.0"
      ],
      "execution_count": 4,
      "outputs": [
        {
          "output_type": "stream",
          "text": [
            "Downloading data from https://storage.googleapis.com/tensorflow/tf-keras-datasets/mnist.npz\n",
            "11493376/11490434 [==============================] - 0s 0us/step\n"
          ],
          "name": "stdout"
        }
      ]
    },
    {
      "cell_type": "markdown",
      "metadata": {
        "id": "NtpxQvVxkvz0",
        "colab_type": "text"
      },
      "source": [
        "### Train and evaluate"
      ]
    },
    {
      "cell_type": "code",
      "metadata": {
        "id": "HdaPwqwUMKzE",
        "colab_type": "code",
        "outputId": "58bb2c91-630e-4650-e238-c3b7542b206c",
        "colab": {
          "base_uri": "https://localhost:8080/",
          "height": 343
        }
      },
      "source": [
        "model.fit(x_train, y_train, epochs=5)\n",
        "model.evaluate(x_test, y_test)"
      ],
      "execution_count": 5,
      "outputs": [
        {
          "output_type": "stream",
          "text": [
            "WARNING: Logging before flag parsing goes to stderr.\n",
            "W0702 14:31:54.055631 139759274997632 deprecation.py:323] From /usr/local/lib/python3.6/dist-packages/tensorflow/python/ops/math_grad.py:1250: add_dispatch_support.<locals>.wrapper (from tensorflow.python.ops.array_ops) is deprecated and will be removed in a future version.\n",
            "Instructions for updating:\n",
            "Use tf.where in 2.0, which has the same broadcast rule as np.where\n"
          ],
          "name": "stderr"
        },
        {
          "output_type": "stream",
          "text": [
            "Train on 60000 samples\n",
            "Epoch 1/5\n",
            "60000/60000 [==============================] - 6s 99us/sample - loss: 0.2113 - accuracy: 0.9372\n",
            "Epoch 2/5\n",
            "60000/60000 [==============================] - 5s 87us/sample - loss: 0.1042 - accuracy: 0.9703\n",
            "Epoch 3/5\n",
            "60000/60000 [==============================] - 5s 89us/sample - loss: 0.0751 - accuracy: 0.9792\n",
            "Epoch 4/5\n",
            "60000/60000 [==============================] - 5s 87us/sample - loss: 0.0615 - accuracy: 0.9826\n",
            "Epoch 5/5\n",
            "60000/60000 [==============================] - 5s 86us/sample - loss: 0.0492 - accuracy: 0.9861\n",
            "10000/10000 [==============================] - 1s 50us/sample - loss: 0.1084 - accuracy: 0.9791\n"
          ],
          "name": "stdout"
        },
        {
          "output_type": "execute_result",
          "data": {
            "text/plain": [
              "[0.10836204209262106, 0.9791]"
            ]
          },
          "metadata": {
            "tags": []
          },
          "execution_count": 5
        }
      ]
    },
    {
      "cell_type": "markdown",
      "metadata": {
        "id": "S937NuXwmtw-",
        "colab_type": "text"
      },
      "source": [
        ""
      ]
    },
    {
      "cell_type": "markdown",
      "metadata": {
        "id": "N_ujlqbjlJWp",
        "colab_type": "text"
      },
      "source": [
        "## Pruning methods"
      ]
    },
    {
      "cell_type": "markdown",
      "metadata": {
        "id": "Y_558mcHlYcH",
        "colab_type": "text"
      },
      "source": [
        "### Weight pruning\n",
        "\n",
        "We define weight pruning here where we zero the smallest k% individual weights in each layer's weight matrix. Note this isn't global ranking of the model's weights but is performed layer-wise.\n",
        "\n",
        "> To achieve 'sparsity' of $k$% we rank the individual weights in weight matrix $W$ according to their magnitude $|w_{i,j}|$, and then set to zero the smallest $k$%.\n",
        "\n",
        "The application below is **in-place** instead of returning a mask.\n"
      ]
    },
    {
      "cell_type": "code",
      "metadata": {
        "id": "kG4eYZRZU-Dc",
        "colab_type": "code",
        "colab": {}
      },
      "source": [
        "def weight_prune(model, k):\n",
        "  prunable_layers = [l for l in model.layers if \"prunable\" in l.name]\n",
        "  \n",
        "  for layer in prunable_layers:\n",
        "    assert len(layer.get_weights()) == 1, \"only supported with one dense matrix\"\n",
        "\n",
        "    weights = layer.get_weights()[0]\n",
        "    abs_weights = np.abs(weights)\n",
        "    threshold = np.percentile(abs_weights, k)\n",
        "    mask = abs_weights < threshold\n",
        "    weights[mask] = 0\n",
        "    layer.set_weights([weights])\n",
        "  \n",
        "  return model"
      ],
      "execution_count": 0,
      "outputs": []
    },
    {
      "cell_type": "markdown",
      "metadata": {
        "id": "P6fmWen0TUwf",
        "colab_type": "text"
      },
      "source": [
        "Now, construct a Keras model class to take the output of a weight-pruned model as above, but **replace the matmuls with sparse-matmuls** via the tensorflow tf.sparse API"
      ]
    },
    {
      "cell_type": "code",
      "metadata": {
        "id": "mEQsxTniTPny",
        "colab_type": "code",
        "colab": {}
      },
      "source": [
        "# Class to take a pruned model and use the functional API to build a mirrored\n",
        "# model but with sparse matmuls switched in \n",
        "class SparseWeightPruned(tf.keras.Model):\n",
        "\n",
        "    def __init__(self, pruned_model):\n",
        "        super().__init__()\n",
        "        \n",
        "        self.flatten = tf.keras.layers.Flatten()\n",
        "        self.sparse_weights = []\n",
        "        self.softmax_weights = None\n",
        "        \n",
        "        for layer in pruned_model.layers:\n",
        "          if \"prunable\" in layer.name:\n",
        "            st = self.dense_to_sparse(layer.get_weights()[0])\n",
        "            self.sparse_weights.append(st)\n",
        "          elif \"softmax\" in layer.name:  \n",
        "            self.softmax_weights = layer.get_weights()[0]\n",
        "\n",
        "    def call(self, x):\n",
        "        x = self.flatten(x)\n",
        "        x = tf.transpose(x)\n",
        "        for st in self.sparse_weights:\n",
        "          x = tf.sparse.sparse_dense_matmul(st, x, adjoint_a=True)\n",
        "          x = tf.nn.relu(x)\n",
        "        x = tf.transpose(x)\n",
        "      \n",
        "        x = tf.matmul(x, self.softmax_weights)\n",
        "        return tf.nn.softmax(x)\n",
        "\n",
        "    @staticmethod\n",
        "    def dense_to_sparse(tensor):\n",
        "      indices = tf.where(tf.not_equal(tensor, 0))\n",
        "      values = tf.gather_nd(tensor, indices)\n",
        "      shape = tf.shape(tensor, out_type=tf.int64)\n",
        "      st = tf.sparse.SparseTensor(indices, values, dense_shape=shape)\n",
        "      return tf.sparse.reorder(st)\n",
        "\n",
        "# function to go straight from a fully-dense model to a weight-pruned model\n",
        "# that uses sparse-matmuls\n",
        "def weight_prune_sparse(model, k):\n",
        "  model_pruned = weight_prune(model, k)\n",
        "  model_pruned_sparse = SparseWeightPruned(model_pruned)\n",
        "\n",
        "  model_pruned_sparse.compile(optimizer='adam',\n",
        "                              loss='sparse_categorical_crossentropy',\n",
        "                              metrics=['accuracy'])\n",
        "  return model_pruned_sparse"
      ],
      "execution_count": 0,
      "outputs": []
    },
    {
      "cell_type": "markdown",
      "metadata": {
        "id": "sZtQBkqFm0DN",
        "colab_type": "text"
      },
      "source": [
        "### Unit Pruning\n",
        "\n",
        "An alternative strategy is unit/neuron pruning. Here we set entire columns in the weight matrix to zero, in effect deleting the corresponding output neuron. This means whole columns disappear and all the corresponding rows from the connected next layer.\n",
        "\n",
        "The rule is as follows:\n",
        "\n",
        "> To achieve sparsity of $k$% we rank the columns of a weight matrix according to their L2-norm and delete the smallest $k$%.\n"
      ]
    },
    {
      "cell_type": "code",
      "metadata": {
        "id": "7-w__9_TlOSw",
        "colab_type": "code",
        "colab": {}
      },
      "source": [
        "def unit_prune(model, k):\n",
        "  # build up a new model with smaller, pruned layers\n",
        "  model_pruned = tf.keras.models.Sequential([flatten()])\n",
        "\n",
        "  prunable_layers = [l for l in model.layers if \"prunable\" in l.name]  \n",
        "  columns_to_keep = None\n",
        "  for (idx, layer) in enumerate(prunable_layers):\n",
        "    # proceed layer-wise, removing rows and columns\n",
        "    weights = layer.get_weights()[0]\n",
        "\n",
        "    # for all columns we have kept in the previous layer (if it exists),\n",
        "    # we only need to keep the corresponding rows in *this* layer since the\n",
        "    # other rows are guaranteed to be evaluated to zero\n",
        "    if columns_to_keep is not None:\n",
        "      weights = weights[columns_to_keep,:]\n",
        "    \n",
        "    # compute all column norms, find the threshold under which we zero\n",
        "    # out the smallest k%\n",
        "    column_norms = np.linalg.norm(weights, ord=2, axis=0)\n",
        "    threshold = np.percentile(column_norms, k)\n",
        "    columns_to_keep = column_norms >= threshold\n",
        "    weights = weights[:,columns_to_keep]\n",
        "    \n",
        "    # build model_pruned - will have smaller dims due to pruned rows and columns\n",
        "    pruned_layer = dense(weights.shape[1])\n",
        "    model_pruned.add(pruned_layer)\n",
        "    pruned_layer.set_weights([weights])\n",
        "\n",
        "  # remove rows from final layer\n",
        "  weights = [l for l in model.layers if \"softmax\" in l.name][0].get_weights()[0]\n",
        "  weights = weights[columns_to_keep,:]\n",
        "  pruned_layer = dense_to_softmax()\n",
        "  model_pruned.add(pruned_layer)\n",
        "  pruned_layer.set_weights([weights])\n",
        "  \n",
        "  model_pruned.compile(optimizer='adam',\n",
        "                       loss='sparse_categorical_crossentropy',\n",
        "                       metrics=['accuracy'])\n",
        "  return model_pruned"
      ],
      "execution_count": 0,
      "outputs": []
    },
    {
      "cell_type": "markdown",
      "metadata": {
        "id": "rmlFXZqMqi3x",
        "colab_type": "text"
      },
      "source": [
        "## Evaluation"
      ]
    },
    {
      "cell_type": "markdown",
      "metadata": {
        "id": "UPDqGz0ppban",
        "colab_type": "text"
      },
      "source": [
        "### Helper functions"
      ]
    },
    {
      "cell_type": "code",
      "metadata": {
        "id": "6WHmUit342Fl",
        "colab_type": "code",
        "colab": {}
      },
      "source": [
        "# Because the models are small and cheap to copy we will do all our experiments\n",
        "# on cloned versions\n",
        "def clone_model(model):\n",
        "  clone = tf.keras.models.clone_model(model)\n",
        "  clone.compile(optimizer='adam',\n",
        "                loss='sparse_categorical_crossentropy',\n",
        "                metrics=['accuracy'])\n",
        "  clone.set_weights(model.get_weights())\n",
        "  return clone\n",
        "\n",
        "\n",
        "# The true sparsity isn't defined based on the 'k' from pruning method\n",
        "# but on the actual number of parameters in the pruned model vs the original.\n",
        "def compute_sparsity(model, model_pruned):\n",
        "  params = np.sum([np.prod(v.shape) for v in model.trainable_variables])\n",
        "  \n",
        "  # account for param reduction due to unit-pruning\n",
        "  pruned_params = np.sum([np.prod(v.shape) for v in model_pruned.trainable_variables])\n",
        "\n",
        "  # account for param reduction due to weight-pruning\n",
        "  pruned_nonzero = np.sum([tf.math.count_nonzero(v) for v in model_pruned.trainable_variables])\n",
        "  pruned_zero = pruned_params - pruned_nonzero\n",
        "  pruned_params -= pruned_zero\n",
        "\n",
        "  return 100.- (100. * pruned_params / params)\n",
        "\n",
        "\n",
        "def evaluate_pruning_method(model, pruning_levels, prune_fn, sparse_inference=False):\n",
        "  accuracy_results = []\n",
        "  sparsity_results = []\n",
        "  timing_results = []\n",
        "\n",
        "  for k in pruning_levels:\n",
        "    cloned_model = clone_model(model)\n",
        "    model_pruned = prune_fn(cloned_model, k)\n",
        "    t = time.process_time()\n",
        "    accuracy = model_pruned.evaluate(x_test, y_test, verbose=0,\n",
        "                                     batch_size=128)[1]*100.\n",
        "    elapsed_time = time.process_time() - t\n",
        "    sparsity = compute_sparsity(cloned_model, model_pruned)\n",
        "    \n",
        "    accuracy_results.append(accuracy)\n",
        "    sparsity_results.append(sparsity)\n",
        "    timing_results.append(elapsed_time)\n",
        "    del cloned_model\n",
        "    \n",
        "  return accuracy_results, sparsity_results, timing_results"
      ],
      "execution_count": 0,
      "outputs": []
    },
    {
      "cell_type": "markdown",
      "metadata": {
        "id": "NIV-aJIIXsUU",
        "colab_type": "text"
      },
      "source": [
        "### Run evaluation against both pruning strategies"
      ]
    },
    {
      "cell_type": "code",
      "metadata": {
        "id": "i1mbUAnkF71j",
        "colab_type": "code",
        "colab": {}
      },
      "source": [
        "pruning_levels = [0, 25, 50, 60, 70, 80, 90, 95, 97, 99]\n",
        "\n",
        "# run and evaluate both pruning strategies\n",
        "wp_acc, wp_sparsity, wp_timing = evaluate_pruning_method(model, pruning_levels, weight_prune)\n",
        "up_acc, up_sparsity, up_timing = evaluate_pruning_method(model, pruning_levels, unit_prune)"
      ],
      "execution_count": 0,
      "outputs": []
    },
    {
      "cell_type": "markdown",
      "metadata": {
        "id": "z4ZejCyvqnue",
        "colab_type": "text"
      },
      "source": [
        "### Plot: Method accuracy"
      ]
    },
    {
      "cell_type": "markdown",
      "metadata": {
        "id": "BVYNFM00wGpC",
        "colab_type": "text"
      },
      "source": [
        "Plot how accuracy is impacted as we vary the percentile-based threshold (k) within the different methods."
      ]
    },
    {
      "cell_type": "code",
      "metadata": {
        "id": "AVWkNQmt0-K-",
        "colab_type": "code",
        "outputId": "7b5dfcfd-975c-4b37-9aab-d9ad55722ecb",
        "colab": {
          "base_uri": "https://localhost:8080/",
          "height": 367
        }
      },
      "source": [
        "# Figure 1\n",
        "plt.plot(pruning_levels, wp_acc, marker='.', markersize=8, color='red', label='weight pruing')\n",
        "plt.plot(pruning_levels, up_acc, marker='.', markersize=8, color='blue', label='unit pruing')\n",
        "\n",
        "plt.title('Effect of pruning strategies on accuracy')\n",
        "plt.ylabel('MNIST test accuracy (%)')\n",
        "plt.xlabel('Pruning decision level @k (%)')\n",
        "plt.legend()\n",
        "plt.grid(True)\n",
        "plt.figtext(0.5, 0, \"Figure 1\", wrap=True, horizontalalignment='center', fontsize=12)\n",
        "plt.show()"
      ],
      "execution_count": 11,
      "outputs": [
        {
          "output_type": "display_data",
          "data": {
            "image/png": "[encoded data removed]",
            "text/plain": [
              "<Figure size 720x360 with 1 Axes>"
            ]
          },
          "metadata": {
            "tags": []
          }
        }
      ]
    },
    {
      "cell_type": "markdown",
      "metadata": {
        "id": "wxOTxFVPrC2d",
        "colab_type": "text"
      },
      "source": [
        "### Plot: Method sparisty vs accuracy"
      ]
    },
    {
      "cell_type": "markdown",
      "metadata": {
        "id": "0wxRWbxUyBed",
        "colab_type": "text"
      },
      "source": [
        "Each method induces an amount of sparsity into the network. Plot this total sparsity aggainst accuracy."
      ]
    },
    {
      "cell_type": "code",
      "metadata": {
        "id": "DauwTa_Zg9_k",
        "colab_type": "code",
        "outputId": "6790f066-98dd-44d6-d73b-5adb2b0da6ff",
        "colab": {
          "base_uri": "https://localhost:8080/",
          "height": 367
        }
      },
      "source": [
        "# Figure 2\n",
        "plt.plot(wp_sparsity, wp_acc, marker='.', markersize=8, color='red', label='weight pruing')\n",
        "plt.plot(up_sparsity, up_acc, marker='.', markersize=8, color='blue', label='unit pruing')\n",
        "\n",
        "plt.title('Degredation of accuracy with sparsity')\n",
        "plt.ylabel('MNIST test accuracy (%)')\n",
        "plt.xlabel('Total Network Sparsity (%)')\n",
        "plt.legend()\n",
        "plt.figtext(0.5, 0, \"Figure 2\", wrap=True, horizontalalignment='center', fontsize=12)\n",
        "plt.grid(True)\n",
        "plt.show()"
      ],
      "execution_count": 12,
      "outputs": [
        {
          "output_type": "display_data",
          "data": {
            "image/png": "[encoded data removed]",
            "text/plain": [
              "<Figure size 720x360 with 1 Axes>"
            ]
          },
          "metadata": {
            "tags": []
          }
        }
      ]
    },
    {
      "cell_type": "markdown",
      "metadata": {
        "id": "nSuQGvVwrVzK",
        "colab_type": "text"
      },
      "source": [
        "### Faster execution\n",
        "\n",
        "Given that the above methods are effective at introducing high levels of sparsity into the network, the question becomes: can we exploit that sparsity for faster execution? By running evaluation with the SparseWeightPruned model we force inference to use SparseTensors."
      ]
    },
    {
      "cell_type": "code",
      "metadata": {
        "id": "SmzM_XNg5XGY",
        "colab_type": "code",
        "colab": {}
      },
      "source": [
        "# sanity check that both dense- and sparse-matmuls give the same results\n",
        "wp_model = weight_prune(clone_model(model), 80)\n",
        "densematmul_ouput = wp_model(x_train[0].reshape(1, -1))\n",
        "\n",
        "wps_model = weight_prune_sparse(clone_model(model), 80)\n",
        "sparsematmul_ouput = wps_model(x_train[0].reshape(1, -1))\n",
        "\n",
        "np.testing.assert_array_almost_equal(\n",
        "    densematmul_ouput,\n",
        "    sparsematmul_ouput\n",
        ")"
      ],
      "execution_count": 0,
      "outputs": []
    },
    {
      "cell_type": "code",
      "metadata": {
        "id": "bzMFjzeuz9Rq",
        "colab_type": "code",
        "outputId": "916451c1-1df6-4374-d537-5aa3b7bec28e",
        "colab": {
          "base_uri": "https://localhost:8080/",
          "height": 35
        }
      },
      "source": [
        "pruning_levels = [0, 25, 50, 60, 70, 80, 90, 95, 97, 99]\n",
        "\n",
        "up_timing_runs = []\n",
        "wp_timing_runs = []\n",
        "wp_sparse_timing_runs = []\n",
        "\n",
        "# run several times to get reliable timings\n",
        "for i in tqdm.tqdm(range(10)):\n",
        "  _, up_sparsity, up_timing = evaluate_pruning_method(model, pruning_levels, unit_prune)\n",
        "  _, wp_sparsity, wp_timing = evaluate_pruning_method(model, pruning_levels, weight_prune)\n",
        "  _, _, wp_timing_sparse = evaluate_pruning_method(model, pruning_levels, weight_prune_sparse)\n",
        "  up_timing_runs.append(up_timing)\n",
        "  wp_timing_runs.append(wp_timing)\n",
        "  wp_sparse_timing_runs.append(wp_timing_sparse)\n",
        "\n",
        "# collate and average run timings\n",
        "wp_timing_sparse = np.stack(wp_sparse_timing_runs).mean(axis=0)\n",
        "wp_timing = np.stack(wp_timing_runs).mean(axis=0)\n",
        "up_timing = np.stack(up_timing_runs).mean(axis=0)"
      ],
      "execution_count": 14,
      "outputs": [
        {
          "output_type": "stream",
          "text": [
            "100%|██████████| 10/10 [03:13<00:00, 19.50s/it]\n"
          ],
          "name": "stderr"
        }
      ]
    },
    {
      "cell_type": "code",
      "metadata": {
        "id": "qghhxy0kGrs6",
        "colab_type": "code",
        "outputId": "126605fc-d58b-4362-f584-33bc9f161592",
        "colab": {
          "base_uri": "https://localhost:8080/",
          "height": 717
        }
      },
      "source": [
        "# Figure 3\n",
        "plt.plot(up_sparsity, up_timing, marker='.', markersize=8, color='blue', label='unit pruning')\n",
        "plt.plot(wp_sparsity, wp_timing, marker='.', markersize=8, color='red', label='weight pruning')\n",
        "plt.title('Execution time with different pruning strategies - all dense matmuls')\n",
        "plt.ylabel('MNIST Testset Evaluation time (secs)')\n",
        "plt.xlabel('Total Network Sparsity (%)')\n",
        "plt.figtext(0.5, 0, \"Figure 3\", wrap=True, horizontalalignment='center', fontsize=12)\n",
        "plt.legend()\n",
        "plt.grid(True)\n",
        "plt.show()\n",
        "\n",
        "# Figure 4\n",
        "plt.plot(wp_sparsity, wp_timing, marker='.', markersize=8, color='red', label='weight pruning')\n",
        "plt.plot(wp_sparsity, wp_timing_sparse, marker='.', markersize=8, color='lightcoral', label='weight pruning - sparse matmul')\n",
        "plt.title('Execution time of weight-pruned net - dense vs sparse matmuls')\n",
        "plt.ylabel('MNIST Testset Evaluation time (secs)')\n",
        "plt.xlabel('Total Network Sparsity (%)')\n",
        "plt.figtext(0.5, 0, \"Figure 4\", wrap=True, horizontalalignment='center', fontsize=12)\n",
        "plt.legend()\n",
        "plt.grid(True)\n",
        "plt.show()\n"
      ],
      "execution_count": 15,
      "outputs": [
        {
          "output_type": "display_data",
          "data": {
            "image/png": "[encoded data removed]",
            "text/plain": [
              "<Figure size 720x360 with 1 Axes>"
            ]
          },
          "metadata": {
            "tags": []
          }
        },
        {
          "output_type": "display_data",
          "data": {
            "image/png": "[encoded data removed]",
            "text/plain": [
              "<Figure size 720x360 with 1 Axes>"
            ]
          },
          "metadata": {
            "tags": []
          }
        }
      ]
    },
    {
      "cell_type": "markdown",
      "metadata": {
        "id": "Ue3-6-Z14cbY",
        "colab_type": "text"
      },
      "source": [
        "## Analysis\n",
        "\n",
        "### Summary\n",
        "It is evident that both pruning strategies are effective for pruning away a very significant proportion of the total network, whilst maintaining good classification accuracy. Figure 2 shows that we can obtain negligable accuracy loss whilst operating at a total network sparsity of ~82%.\n",
        "\n",
        "Both unit and weight pruning degrade at the very high sparsity levels (falling all the way to chance-levels), however neither harm performance in the 0-80% range. Weight pruning in these experiments has an edge in the critial zone between ~90-95%. This range is critical because is represents the region where a practitioner may practically wish to trade between sparsity and accuracy.\n",
        "\n",
        "### Why is sparsity possible?\n",
        "\n",
        "* First, why are such high levels of sparsity possible without any accuracy degredation? Neural networks are typically highly over-parameterised. In this setup we have 60,000 training points but 2,386,000 parameters. It is concievable therefore that the majority of suitable functions in hypothesis space do not need all those paramters to constrain the function. Empirically we see that only ~20% of the parameters are really required to parameterise a good function for MNIST. This corresponds to effectively only exploiting $2,386,000 * 0.2~=477,200$ parameters to train on 60,000 data points. Interestingly, this falls within one order of magnitude of traditional wisdom of allocating 1 parameter per data point, so from a pure data vs model capacity standpoint these results aren't too surprising.\n",
        "\n",
        "* More surprising is that the key routes that through the network implicitly follow a sparse pattern. A-priori, it could be that we depend weakly on the combination of *all* weights in the network, but we don't. Instead we depend on several key sparsely activated routes which are parameterised by large weight values. I hypothesise that the the ReLU activation amplifies this affect by encouraging routes through the network which derive from high activations and zeroing out weakly activated routes. Whatever the case, optimization **finds it very easy** to provide us with a solution which is implicitly sparse already, allowing us to remove the majority of weights with impunity.\n",
        "\n",
        "\n",
        "### Why is weight pruning more effective?\n",
        "\n",
        "Figure 2 shows unit pruning has an earlier degredation in performance - why might this be? In unit pruning we are making a much coarser decision about what to throw away; low norm columns may contain a number of high valued weights which were critical for classifying a certain proportion of inputs. In addition, such zeroing of a column triggers the zeroing of a whole row of the next layer's weight matrix which may have contained **many** (not just few) important weights. For this reason I suspect we see unit-pruning falling away sooner.\n",
        "\n",
        "Having said that, unit-pruning produces a much \"nicer\" sparsity pattern which will compress on disk more effectively (whole ranges are removed rather than random weights) so there is certainly an additional tradeoff here between sparsity regularity and accuracy. In fact, the sparsity is so regular is allows us to continue to use dense matrix multiplies (but on smaller dimensions) which, as discussed further below, yields a gain in execution speed.\n",
        "\n",
        "### How does sparisty affect execution speed?\n",
        "\n",
        "* The unit-pruned and weight-pruned dense matrix multiplications execute efficiently (relative to the sparse-matmul version) with the unit-pruned networks making relative gains in performance above the 50% sparsity level. This is expected since the matrix multiplication dimensions become smaller under unit-pruning at higher levels of sparsity. Between sparsity levels of 90-100%, unit-pruned networks give a consistent ~6.5% relative improvement in execution speed.\n",
        "\n",
        "* Figure 4 suggests that current GPU-based implementations of sparse matrix multiplications are unable to outperform dense generalised matrix multiplications, until we reach very high levels of sparsity. It is well known that dense matrix multiplications map very nicely onto GPU topologies whereas it is more difficult to exploit sparse patterns in a parallelised fashion. I experimented with adjusting the testset batch size but the pattern from Figure 4 held the same across `batch_size=[32,64,128,256,1024]`\n",
        "\n",
        "My takeaway from Figure 3 and Figure 4 is that sparsity can't be exploited effectively on current hardware. Custom ASICs could potentially do better in future, but for now it seems that current generation GPUs struggle on non-square sparse matrix multiplies.\n",
        "\n",
        "\n",
        "References:\n",
        "\n",
        "https://stackoverflow.com/questions/44859321/how-to-perform-efficient-sparse-matrix-multiplication-by-using-tf-matmul"
      ]
    },
    {
      "cell_type": "markdown",
      "metadata": {
        "id": "reNcmM0hpMUt",
        "colab_type": "text"
      },
      "source": [
        "## Ideas for next steps\n",
        "\n",
        "* Investigate interaction with quantisation; hypothesis is that magnitude is the decisive factor to sparsity which quantisation doesn't affect. Quantise first then check we can still prune and obtain the same graphs.\n",
        "* Prune during training: the network can learn to exploit emerging sparse patterns during training which may result in more accurate final models but at the same sparsity level\n",
        "* Hattie Zhou presented [1,2]  [Deconstructing Lottery Tickets: Zeros, Signs, and the Supermask](https://arxiv.org/abs/1905.01067) this year at ICML 2019. It explores the idea of improving the [lottery ticket alogorithm](https://arxiv.org/abs/1803.03635) as follows: instead of keeping weights with largest final magnitudes, **keep weights that increased in magnitude most during training.** It could be interesting to investigate the effect of defining Targeted Dropout's targeted proportion of weights according to *that* rule.\n",
        "\n",
        "\n",
        "\n",
        "---\n",
        "\n",
        "\n",
        "[1] https://www.facebook.com/icml.imls/videos/450413519084800/\n",
        "\n",
        "[2] http://bit.ly/supermasks"
      ]
    }
  ]
}